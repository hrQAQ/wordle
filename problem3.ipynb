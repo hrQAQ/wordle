{
 "cells": [
  {
   "attachments": {},
   "cell_type": "markdown",
   "metadata": {},
   "source": [
    "概率越低，信息越大。也就是说，当一个不是那么常见的词出现后，可以提供更多的信息，比如说，“爨”字可以立马让人联想到曲靖；而一些常见的词提供的信息几乎是0，比如说，“了”，“啊”，“吗”这样的虚词。\n",
    "\n",
    "信息熵越低，信息越“纯净”，信息熵越高，信息越“驳杂”。如果信息只含有一个字母，那么信息熵无疑是0；如果信息含有更多的字母，信息熵就会变高。\n",
    "\n",
    "前18分钟就是在详细的解释信息熵公式在wordle里的应用，在相同的概率p下，希望信息量I越大越好，将他们的作用综合起来，也就得到了信息熵公式。信息熵越大，意味着使用这个单词来检验能获得的信息的期望越高。但是有一个问题就在于，wordle里面的answer基本都是平时常用的单词，而作者使用的单词库的单词远远超过了那些。这就意味着使用这样的方法来测试，仍然会存在很多无效的次数。所以后面的时间就是在讲根据词库里每个单词的使用频率为它们的概率附上权重。这里使用的附权的函数是sigmoid函数，当然也可以用其他的函数来附权。这就是对一代机进行优化，形成了二代机的检验方法。但是结尾在算E(score)，也就是步数期望那里我不是很能看得懂。了解最后一部分过程的欢迎指教，总结有错误的地方也恳请指正。\n",
    "\n",
    "通俗讲，算步数期望是为了赶紧把正确结果猜出来，而原来的算信息熵是为了消除更多的不确定性，让后面的猜测更容易，需要想办法在两者之间权衡\n",
    "\n",
    "事实上 丰富的信息意味着状况罕见\n",
    "In fact what it means to be informative is that it's unlikely\n",
    "\n",
    "信息论的角度讲的话，就是一系列是和否的选择，而是和否的选择提供的信息是对称的"
   ]
  },
  {
   "cell_type": "code",
   "execution_count": null,
   "metadata": {},
   "outputs": [],
   "source": [
    "import os\n",
    "import numpy as np\n",
    "import pandas as pd\n",
    "\n",
    "MISS = np.uint8(0)  # Missed\n",
    "MISPLACED = np.uint8(1) # Correct letter, wrong position\n",
    "EXACT = np.uint8(2) # Correct letter, correct position\n",
    "\n",
    "DATA_DIR = os.path.join(\n",
    "    os.path.dirname(os.path.realpath(__file__)),\n",
    "    \"data\",\n",
    ")\n",
    "SHORT_WORD_LIST_FILE = os.path.join(DATA_DIR, \"possible_words.txt\")\n",
    "LONG_WORD_LIST_FILE = os.path.join(DATA_DIR, \"allowed_words.txt\")\n",
    "WORD_FREQ_FILE = os.path.join(DATA_DIR, \"wordle_words_freqs_full.txt\")\n",
    "WORD_FREQ_MAP_FILE = os.path.join(DATA_DIR, \"freq_map.json\")\n",
    "SECOND_GUESS_MAP_FILE = os.path.join(DATA_DIR, \"second_guess_map.json\")\n",
    "PATTERN_MATRIX_FILE = os.path.join(DATA_DIR, \"pattern_matrix.npy\")\n",
    "ENT_SCORE_PAIRS_FILE = os.path.join(DATA_DIR, \"ent_score_pairs.json\")\n"
   ]
  }
 ],
 "metadata": {
  "kernelspec": {
   "display_name": "d2l",
   "language": "python",
   "name": "python3"
  },
  "language_info": {
   "name": "python",
   "version": "3.9.16"
  },
  "orig_nbformat": 4,
  "vscode": {
   "interpreter": {
    "hash": "bae7fc0e2ebed4f99d744291803f0e39e6387cfd45b080260a70013dea7e931a"
   }
  }
 },
 "nbformat": 4,
 "nbformat_minor": 2
}
