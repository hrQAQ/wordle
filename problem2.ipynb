{
 "cells": [
  {
   "cell_type": "code",
   "execution_count": null,
   "metadata": {},
   "outputs": [],
   "source": []
  },
  {
   "attachments": {},
   "cell_type": "markdown",
   "metadata": {},
   "source": [
    "\n",
    "## 第二问：\n",
    "\n",
    "- [ ] 计算单词的信息熵\n",
    "- [ ] 提取单词的特征\n",
    "    - [ ] 元音字母个数\n",
    "    - [ ] 重音\n",
    "    - [ ] 词性\n",
    "    - [ ] ngram出现频率高的字母在单词里面出现过吗\n",
    "    - [ ] 词根、前缀、后缀\n",
    "    - [ ] 词频特征：单词在语料库的出现频率\n",
    "- [ ] 确定模型？XGBOOST？决策树？"
   ]
  }
 ],
 "metadata": {
  "kernelspec": {
   "display_name": "d2l",
   "language": "python",
   "name": "python3"
  },
  "language_info": {
   "name": "python",
   "version": "3.9.16"
  },
  "orig_nbformat": 4,
  "vscode": {
   "interpreter": {
    "hash": "bae7fc0e2ebed4f99d744291803f0e39e6387cfd45b080260a70013dea7e931a"
   }
  }
 },
 "nbformat": 4,
 "nbformat_minor": 2
}
